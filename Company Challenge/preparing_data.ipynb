{
 "cells": [
  {
   "cell_type": "markdown",
   "metadata": {},
   "source": [
    "## Steps peformed to generate sales data for a Restaurant by using given sample data.\n",
    "\n",
    "### From the sample data provided I have decided to drop some columns as they are out of scope from the approach that I will be going with.\n",
    "\n",
    "### Columns dropped : StoreCode, DTS,  Month, Date,\tYear, Time,\tTicketCode,\tPartySize, ItemPrice.\n",
    "\n",
    "### NOTE : Instead of generating Time for Lunch and Dinner, I will be generating rows for Lunch and Dinner labels only as this would also fulfill the purpose.\n",
    "\n",
    "### As per requirements I will be generating randomized data for 6 months span from January 1,2019 to June 30,2019 and at the end I will replace the data for 1st & 2nd January with the provided sample data."
   ]
  },
  {
   "cell_type": "markdown",
   "metadata": {},
   "source": [
    " ## Various Imports and utility functions"
   ]
  },
  {
   "cell_type": "code",
   "execution_count": null,
   "metadata": {},
   "outputs": [],
   "source": [
    "import datetime\n",
    "import pandas as pd\n",
    "import numpy as np\n",
    "import calendar\n",
    "\n",
    "''' Function for getting day of week from date '''\n",
    "def findDay(date): \n",
    "    day = date.weekday() \n",
    "    return (calendar.day_name[day]) \n",
    "\n",
    "''' Function for getting day type from day '''\n",
    "def findDayType(day):\n",
    "    if day in ['Sunday','Saturday']:\n",
    "        return 'Weekend'\n",
    "    else:\n",
    "        return 'Weekday'"
   ]
  },
  {
   "cell_type": "markdown",
   "metadata": {},
   "source": [
    "### Creating Initial data for 6 months with columns : Date , Day ,  Day Type"
   ]
  },
  {
   "cell_type": "code",
   "execution_count": null,
   "metadata": {},
   "outputs": [],
   "source": [
    "start = datetime.date(2019, 1, 1)\n",
    "\n",
    "end = datetime.date(2019, 6, 30)\n",
    "\n",
    "data_df = pd.DataFrame(columns=['Date'])\n",
    "\n",
    "data_df['Date'] = pd.date_range(start,end)\n",
    "\n",
    "data_df['Date'] = data_df.Date.apply(lambda x: x.date())\n",
    "\n",
    "data_df['Day'] = data_df.Date.apply(lambda x : findDay(x))\n",
    "\n",
    "data_df['Day Type'] = data_df.Day.apply(lambda x: findDayType(x))"
   ]
  },
  {
   "cell_type": "markdown",
   "metadata": {},
   "source": [
    "### Creating Two dataframes which will contain data for Lunch and Dinner Separately with proper repetitions of rows for each date using Numpy's Repeat() function, meeting the mentioned requirements in the problem statement.\n",
    "\n",
    "### As per requirements number of customers will be more if it is Friday's Dinner or Lunch for Saturday or Sunday as compared to timings of other days.\n",
    "\n",
    "### Windows selected for generating a random number using Numpy's randint() function for number of orders during different timings :\n",
    "        Friday's Dinner : 65-85\n",
    "        Other Days Dinner : 35-55\n",
    "        Sunday/Saturday Lunch : 85-105\n",
    "        Other Days Lunch : 55-75"
   ]
  },
  {
   "cell_type": "code",
   "execution_count": null,
   "metadata": {},
   "outputs": [],
   "source": [
    "''' Converting Dataframe values into Numpy Array '''\n",
    "data_vals = data_df.values\n",
    "\n",
    "''' Creating empty dataframe '''\n",
    "new_df_lunch = pd.DataFrame()\n",
    "\n",
    "''' Iterating over each row in array and repeating data with proper conditions '''\n",
    "for i in data_vals:\n",
    "    if i[1] in ['Sunday','Saturday']:\n",
    "        temp = np.repeat([i],np.random.randint(85,105),axis=0).tolist()\n",
    "        new_df_lunch = new_df_lunch.append(temp,ignore_index=True)\n",
    "    else:\n",
    "        temp = np.repeat([i],np.random.randint(55,75),axis=0).tolist()\n",
    "        new_df_lunch = new_df_lunch.append(temp,ignore_index=True)\n",
    "        \n",
    "new_df_lunch.columns = data_df.columns\n",
    "\n",
    "''' Creating Shift column with all values = Lunch '''\n",
    "new_df_lunch['Shift'] = 'Lunch'\n",
    "\n",
    "''' Creating empty dataframe '''\n",
    "new_df_dinner = pd.DataFrame()\n",
    "\n",
    "''' Iterating over each row in array and repeating data with proper conditions '''\n",
    "for i in data_vals:\n",
    "    if i[1] == 'Friday':\n",
    "        temp = np.repeat([i],np.random.randint(65,85),axis=0).tolist()\n",
    "        new_df_dinner = new_df_dinner.append(temp,ignore_index=True)\n",
    "    else:\n",
    "        temp = np.repeat([i],np.random.randint(35,55),axis=0).tolist()\n",
    "        new_df_dinner = new_df_dinner.append(temp,ignore_index=True)\n",
    "        \n",
    "new_df_dinner.columns = data_df.columns\n",
    "\n",
    "''' Creating Shift column with all values = Dinner '''\n",
    "new_df_dinner['Shift'] = 'Dinner'"
   ]
  },
  {
   "cell_type": "markdown",
   "metadata": {},
   "source": [
    "### Creating list of Menu categories using sample data set and also a dictionary for mapping each Menu category with corresponding Menu Item so that we can randomize data in proper manner."
   ]
  },
  {
   "cell_type": "code",
   "execution_count": null,
   "metadata": {},
   "outputs": [],
   "source": [
    "category = ['Starter', 'VEGETABLE SPECIALS' ,'BREADS', 'CHICKEN SPECIALS' ,'RICE SPECIALS', 'DESSERTS', 'LAMB SPECIALTIES', 'SEAFOOD SPECIALTIES']\n",
    "\n",
    "mapping = {'Starter':['GOBI MANCHURIAN','TASTY FLATBREAD','MASALA CHICKEN WINGS','COCKTAIL CHICKEN SAMOSAS','VEGETABLE SAMOSA','CHAAT PAPRI','VEGETABLE PAKORA','HARA BHARA KABOB','FISH PAKORA','SHRIMP STRIPS','TASTY SLIDERS : CHICKEN PANEER','SPICY CHICKEN BITES'] ,\n",
    "           'VEGETABLE SPECIALS':['SARSON DA SAAG','PANEER VINDALOO','BAINGAN BARTHA','MALAI KOFTA','KADAHI PANEER','SHAHI PANEER','YELLOW DAL FRY','BHINDI DO PIAZZA'],\n",
    "           'BREADS' :['GARLIC NAAN','NAAN','ONION KULCHA','TANDOORI ROTI','ALOO PARATHA','LACHA PARATHA','SPINACH NAAN'],\n",
    "           'CHICKEN SPECIALS':['CHICKEN KORMA','CHICKEN TIKKA MASALA','CHICKEN SAAG','COCONUT CHICKEN CURRY','BUTTER CHICKEN'],\n",
    "           'RICE SPECIALS':['CHICKEN BIRYANI','RICE','TIKKA RICE BOWL : PANEER | CHICKEN'],\n",
    "           'DESSERTS':['GULABJAMUN','MALPURA','CARROT HALWA','RASMALAI','KHEER'],\n",
    "           'LAMB SPECIALTIES':['KADAHI LAMB'],\n",
    "           'SEAFOOD SPECIALTIES':['FISH CURRY','FISH KORMA']}"
   ]
  },
  {
   "cell_type": "markdown",
   "metadata": {},
   "source": [
    "### Creating 'MenuCategory' and 'MenuItem' columns in both dataframes using Numpy's Choice() function by also specifying proper weights for each category.\n",
    "\n",
    "### Weights were decided after examining the value counts of each category in the sample data.\n",
    "\n",
    "### By using weights , we are making sure that certain menu categories are given more importance over the others when we will be populating randomized data.\n",
    "\n",
    "#### Weights for each category are : ['Starter':0.17, 'VEGETABLE SPECIALS': 0.14 ,'BREADS' : 0.25 , 'CHICKEN SPECIALS': 0.13  ,'RICE SPECIALS': 0.10 , 'DESSERTS' : 0.15 , 'LAMB SPECIALTIES' : 0.02, 'SEAFOOD SPECIALTIES': 0.04 ]\n",
    "\n",
    "### After generating data for 'MenuCategory' columns , we will be iterating over values from this column and use Mapping dictionary to populate only corresponding values in 'MenuItem' column so that values do not get inter-mixed.  "
   ]
  },
  {
   "cell_type": "code",
   "execution_count": null,
   "metadata": {},
   "outputs": [],
   "source": [
    "new_df_lunch['MenuCategory'] = 'Empty'\n",
    "\n",
    "new_df_lunch['MenuItem'] = 'Empty'\n",
    "\n",
    "new_df_lunch['MenuCategory'] = new_df_lunch['MenuCategory'].apply(lambda x : np.random.choice(category,1,p=[0.17,0.14,0.25,0.13,0.10,0.15,0.02,0.04])[0])\n",
    "\n",
    "new_df_lunch['MenuItem'] = new_df_lunch['MenuCategory'].apply(lambda x : np.random.choice(mapping.get(x),1)[0])\n",
    "\n",
    "\n",
    "new_df_dinner['MenuCategory'] = 'Empty'\n",
    "\n",
    "new_df_dinner['MenuItem'] = 'Empty'\n",
    "\n",
    "new_df_dinner['MenuCategory'] = new_df_dinner['MenuCategory'].apply(lambda x : np.random.choice(category,1,p=[0.17,0.14,0.25,0.13,0.10,0.15,0.02,0.04])[0])\n",
    "\n",
    "new_df_dinner['MenuItem'] = new_df_dinner['MenuCategory'].apply(lambda x : np.random.choice(mapping.get(x),1)[0])\n"
   ]
  },
  {
   "cell_type": "markdown",
   "metadata": {},
   "source": [
    "### We will be now concatenating both data frame row wise to create a final dataframe for holding data and then also creating our last desired column 'ItemQty' using Numpy's Choice() function with proper weights again so that certain values get importance when generating random quantity of ordered food item.\n",
    "\n",
    "### Weights for each order quantity : [1 : 0.55 ,2 : 0.25 , 3 : 0.15 , 4 : 0.05]\n",
    "\n",
    "### And then we will sort our data by 'Date' columns in Ascending Order and by 'Shift' column in Descending order and after this we will export data into an excel file."
   ]
  },
  {
   "cell_type": "code",
   "execution_count": null,
   "metadata": {},
   "outputs": [],
   "source": [
    "final_data = pd.concat([new_df_lunch,new_df_dinner],axis =0)\n",
    "\n",
    "final_data['ItemQty'] = ''\n",
    "\n",
    "final_data['ItemQty'] = final_data['ItemQty'].apply(lambda x : np.random.choice([1,2,3,4],1,p=[0.55,0.25,0.15,0.05])[0])\n",
    "\n",
    "final_data = final_data.sort_values(['Date', 'Shift'], ascending=[True, False])\n",
    "print(final_data.shape)"
   ]
  },
  {
   "cell_type": "code",
   "execution_count": null,
   "metadata": {},
   "outputs": [],
   "source": [
    "''' Export data into excel file '''\n",
    "# final_data.to_excel('prepared_data.xlsx',index=False)"
   ]
  },
  {
   "cell_type": "markdown",
   "metadata": {},
   "source": [
    "### Total rows generated : 22038\n",
    "\n",
    "### Total columns generated : 7"
   ]
  }
 ],
 "metadata": {
  "kernelspec": {
   "display_name": "Python 3",
   "language": "python",
   "name": "python3"
  },
  "language_info": {
   "codemirror_mode": {
    "name": "ipython",
    "version": 3
   },
   "file_extension": ".py",
   "mimetype": "text/x-python",
   "name": "python",
   "nbconvert_exporter": "python",
   "pygments_lexer": "ipython3",
   "version": "3.7.6"
  }
 },
 "nbformat": 4,
 "nbformat_minor": 4
}
