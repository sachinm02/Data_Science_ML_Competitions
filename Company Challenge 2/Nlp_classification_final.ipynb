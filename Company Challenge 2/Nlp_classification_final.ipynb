{
  "nbformat": 4,
  "nbformat_minor": 0,
  "metadata": {
    "colab": {
      "name": "Nlp_classification_final.ipynb",
      "provenance": [],
      "collapsed_sections": []
    },
    "kernelspec": {
      "name": "python3",
      "display_name": "Python 3"
    }
  },
  "cells": [
    {
      "cell_type": "markdown",
      "metadata": {
        "id": "9UhH092iwY1O"
      },
      "source": [
        "## Importing various required libraries and data."
      ]
    },
    {
      "cell_type": "code",
      "metadata": {
        "id": "6axBJwcQYyVS"
      },
      "source": [
        "import pandas as pd\n",
        "import numpy as np\n",
        "import spacy\n",
        "from sklearn.feature_extraction.text import TfidfVectorizer\n",
        "from sklearn.base import TransformerMixin\n",
        "from sklearn.pipeline import Pipeline\n",
        "pd.set_option('display.max_columns',100)"
      ],
      "execution_count": 5,
      "outputs": []
    },
    {
      "cell_type": "code",
      "metadata": {
        "colab": {
          "base_uri": "https://localhost:8080/",
          "height": 381
        },
        "id": "A7ZTV6w4ZwPf",
        "outputId": "f6cd3e78-aa64-490b-a02e-ec092d93be8d"
      },
      "source": [
        "data_0 = pd.read_excel('/content/Training Data.xlsx',header=1)\n",
        "data_0.head()"
      ],
      "execution_count": 6,
      "outputs": [
        {
          "output_type": "execute_result",
          "data": {
            "text/html": [
              "<div>\n",
              "<style scoped>\n",
              "    .dataframe tbody tr th:only-of-type {\n",
              "        vertical-align: middle;\n",
              "    }\n",
              "\n",
              "    .dataframe tbody tr th {\n",
              "        vertical-align: top;\n",
              "    }\n",
              "\n",
              "    .dataframe thead th {\n",
              "        text-align: right;\n",
              "    }\n",
              "</style>\n",
              "<table border=\"1\" class=\"dataframe\">\n",
              "  <thead>\n",
              "    <tr style=\"text-align: right;\">\n",
              "      <th></th>\n",
              "      <th>Company Name</th>\n",
              "      <th>Exchange:Ticker</th>\n",
              "      <th>Company Type</th>\n",
              "      <th>Company Status</th>\n",
              "      <th>Geographic Locations</th>\n",
              "      <th>Business Description</th>\n",
              "      <th>Industry Classifications</th>\n",
              "      <th>Security Tickers</th>\n",
              "    </tr>\n",
              "  </thead>\n",
              "  <tbody>\n",
              "    <tr>\n",
              "      <th>0</th>\n",
              "      <td>024 Pharma, Inc. (OTCPK:EEIG)</td>\n",
              "      <td>OTCPK:EEIG</td>\n",
              "      <td>Public Company</td>\n",
              "      <td>Operating</td>\n",
              "      <td>United States of America (Primary)</td>\n",
              "      <td>024 Pharma, Inc. provides healthcare products ...</td>\n",
              "      <td>Beauty Care Products (Primary); Consumer Stapl...</td>\n",
              "      <td>OTCPK:EEIG</td>\n",
              "    </tr>\n",
              "    <tr>\n",
              "      <th>1</th>\n",
              "      <td>1-800-FLOWERS.COM, Inc. (NasdaqGS:FLWS)</td>\n",
              "      <td>NasdaqGS:FLWS</td>\n",
              "      <td>Public Company</td>\n",
              "      <td>Operating</td>\n",
              "      <td>United States of America (Primary)</td>\n",
              "      <td>1-800-Flowers.com, Inc., together with its sub...</td>\n",
              "      <td>Catalog Flowers, Gifts and Novelties (Primary)...</td>\n",
              "      <td>NasdaqGS:FLWS; DB:FWC</td>\n",
              "    </tr>\n",
              "    <tr>\n",
              "      <th>2</th>\n",
              "      <td>12 Retech Corporation (OTCPK:RETC)</td>\n",
              "      <td>OTCPK:RETC</td>\n",
              "      <td>Public Company</td>\n",
              "      <td>Operating</td>\n",
              "      <td>United States of America (Primary)</td>\n",
              "      <td>12 Retech Corporation, through its subsidiarie...</td>\n",
              "      <td>Information Technology (Primary); Internet Sof...</td>\n",
              "      <td>OTCPK:RETC</td>\n",
              "    </tr>\n",
              "    <tr>\n",
              "      <th>3</th>\n",
              "      <td>1347 Property Insurance Holdings, Inc. (Nasdaq...</td>\n",
              "      <td>NasdaqGM:PIH</td>\n",
              "      <td>Public Company</td>\n",
              "      <td>Operating</td>\n",
              "      <td>United States of America (Primary)</td>\n",
              "      <td>1347 Property Insurance Holdings, Inc., throug...</td>\n",
              "      <td>Casualty (Primary); Financials (Primary); Fire...</td>\n",
              "      <td>NasdaqGM:PIH</td>\n",
              "    </tr>\n",
              "    <tr>\n",
              "      <th>4</th>\n",
              "      <td>1847 Holdings LLC (OTCPK:EFSH)</td>\n",
              "      <td>OTCPK:EFSH</td>\n",
              "      <td>Public Company</td>\n",
              "      <td>Operating</td>\n",
              "      <td>United States of America (Primary)</td>\n",
              "      <td>1847 Holdings LLC, through its subsidiaries, p...</td>\n",
              "      <td>Commercial and Professional Services (Primary)...</td>\n",
              "      <td>OTCPK:EFSH</td>\n",
              "    </tr>\n",
              "  </tbody>\n",
              "</table>\n",
              "</div>"
            ],
            "text/plain": [
              "                                        Company Name Exchange:Ticker  \\\n",
              "0                      024 Pharma, Inc. (OTCPK:EEIG)      OTCPK:EEIG   \n",
              "1            1-800-FLOWERS.COM, Inc. (NasdaqGS:FLWS)   NasdaqGS:FLWS   \n",
              "2                 12 Retech Corporation (OTCPK:RETC)      OTCPK:RETC   \n",
              "3  1347 Property Insurance Holdings, Inc. (Nasdaq...    NasdaqGM:PIH   \n",
              "4                     1847 Holdings LLC (OTCPK:EFSH)      OTCPK:EFSH   \n",
              "\n",
              "     Company Type Company Status                Geographic Locations  \\\n",
              "0  Public Company      Operating  United States of America (Primary)   \n",
              "1  Public Company      Operating  United States of America (Primary)   \n",
              "2  Public Company      Operating  United States of America (Primary)   \n",
              "3  Public Company      Operating  United States of America (Primary)   \n",
              "4  Public Company      Operating  United States of America (Primary)   \n",
              "\n",
              "                                Business Description  \\\n",
              "0  024 Pharma, Inc. provides healthcare products ...   \n",
              "1  1-800-Flowers.com, Inc., together with its sub...   \n",
              "2  12 Retech Corporation, through its subsidiarie...   \n",
              "3  1347 Property Insurance Holdings, Inc., throug...   \n",
              "4  1847 Holdings LLC, through its subsidiaries, p...   \n",
              "\n",
              "                            Industry Classifications       Security Tickers  \n",
              "0  Beauty Care Products (Primary); Consumer Stapl...             OTCPK:EEIG  \n",
              "1  Catalog Flowers, Gifts and Novelties (Primary)...  NasdaqGS:FLWS; DB:FWC  \n",
              "2  Information Technology (Primary); Internet Sof...             OTCPK:RETC  \n",
              "3  Casualty (Primary); Financials (Primary); Fire...           NasdaqGM:PIH  \n",
              "4  Commercial and Professional Services (Primary)...             OTCPK:EFSH  "
            ]
          },
          "metadata": {
            "tags": []
          },
          "execution_count": 6
        }
      ]
    },
    {
      "cell_type": "markdown",
      "metadata": {
        "id": "ZVFThYR0w1H_"
      },
      "source": [
        "### Taking only the required columns and performing some text preprocessing stpes to remove the noisy data."
      ]
    },
    {
      "cell_type": "code",
      "metadata": {
        "colab": {
          "base_uri": "https://localhost:8080/",
          "height": 197
        },
        "id": "T5-C16SCZ9nw",
        "outputId": "0b382993-333a-4971-eea1-aee43eed689c"
      },
      "source": [
        "data_filtered = data_0[['Business Description','Industry Classifications']].copy()\n",
        "data_filtered.head()"
      ],
      "execution_count": 7,
      "outputs": [
        {
          "output_type": "execute_result",
          "data": {
            "text/html": [
              "<div>\n",
              "<style scoped>\n",
              "    .dataframe tbody tr th:only-of-type {\n",
              "        vertical-align: middle;\n",
              "    }\n",
              "\n",
              "    .dataframe tbody tr th {\n",
              "        vertical-align: top;\n",
              "    }\n",
              "\n",
              "    .dataframe thead th {\n",
              "        text-align: right;\n",
              "    }\n",
              "</style>\n",
              "<table border=\"1\" class=\"dataframe\">\n",
              "  <thead>\n",
              "    <tr style=\"text-align: right;\">\n",
              "      <th></th>\n",
              "      <th>Business Description</th>\n",
              "      <th>Industry Classifications</th>\n",
              "    </tr>\n",
              "  </thead>\n",
              "  <tbody>\n",
              "    <tr>\n",
              "      <th>0</th>\n",
              "      <td>024 Pharma, Inc. provides healthcare products ...</td>\n",
              "      <td>Beauty Care Products (Primary); Consumer Stapl...</td>\n",
              "    </tr>\n",
              "    <tr>\n",
              "      <th>1</th>\n",
              "      <td>1-800-Flowers.com, Inc., together with its sub...</td>\n",
              "      <td>Catalog Flowers, Gifts and Novelties (Primary)...</td>\n",
              "    </tr>\n",
              "    <tr>\n",
              "      <th>2</th>\n",
              "      <td>12 Retech Corporation, through its subsidiarie...</td>\n",
              "      <td>Information Technology (Primary); Internet Sof...</td>\n",
              "    </tr>\n",
              "    <tr>\n",
              "      <th>3</th>\n",
              "      <td>1347 Property Insurance Holdings, Inc., throug...</td>\n",
              "      <td>Casualty (Primary); Financials (Primary); Fire...</td>\n",
              "    </tr>\n",
              "    <tr>\n",
              "      <th>4</th>\n",
              "      <td>1847 Holdings LLC, through its subsidiaries, p...</td>\n",
              "      <td>Commercial and Professional Services (Primary)...</td>\n",
              "    </tr>\n",
              "  </tbody>\n",
              "</table>\n",
              "</div>"
            ],
            "text/plain": [
              "                                Business Description  \\\n",
              "0  024 Pharma, Inc. provides healthcare products ...   \n",
              "1  1-800-Flowers.com, Inc., together with its sub...   \n",
              "2  12 Retech Corporation, through its subsidiarie...   \n",
              "3  1347 Property Insurance Holdings, Inc., throug...   \n",
              "4  1847 Holdings LLC, through its subsidiaries, p...   \n",
              "\n",
              "                            Industry Classifications  \n",
              "0  Beauty Care Products (Primary); Consumer Stapl...  \n",
              "1  Catalog Flowers, Gifts and Novelties (Primary)...  \n",
              "2  Information Technology (Primary); Internet Sof...  \n",
              "3  Casualty (Primary); Financials (Primary); Fire...  \n",
              "4  Commercial and Professional Services (Primary)...  "
            ]
          },
          "metadata": {
            "tags": []
          },
          "execution_count": 7
        }
      ]
    },
    {
      "cell_type": "code",
      "metadata": {
        "colab": {
          "base_uri": "https://localhost:8080/"
        },
        "id": "F9uPbYH5b11h",
        "outputId": "844e986e-867d-43a8-dc98-52594edb77d4"
      },
      "source": [
        "print(data_filtered.shape)\n",
        "print(\"-\"*50)\n",
        "print(data_filtered.info())\n",
        "print(\"-\"*50)\n",
        "print(data_filtered.isnull().sum())"
      ],
      "execution_count": 14,
      "outputs": [
        {
          "output_type": "stream",
          "text": [
            "(2002, 2)\n",
            "--------------------------------------------------\n",
            "<class 'pandas.core.frame.DataFrame'>\n",
            "RangeIndex: 2002 entries, 0 to 2001\n",
            "Data columns (total 2 columns):\n",
            " #   Column                    Non-Null Count  Dtype \n",
            "---  ------                    --------------  ----- \n",
            " 0   Business Description      2002 non-null   object\n",
            " 1   Industry Classifications  2002 non-null   object\n",
            "dtypes: object(2)\n",
            "memory usage: 31.4+ KB\n",
            "None\n",
            "--------------------------------------------------\n",
            "Business Description        0\n",
            "Industry Classifications    0\n",
            "dtype: int64\n"
          ],
          "name": "stdout"
        }
      ]
    },
    {
      "cell_type": "code",
      "metadata": {
        "colab": {
          "base_uri": "https://localhost:8080/",
          "height": 88
        },
        "id": "JZnpIom69PhE",
        "outputId": "aec7626a-8702-4450-c83d-1dbd2dec2478"
      },
      "source": [
        "data_filtered['Industry Classifications'][0]"
      ],
      "execution_count": 8,
      "outputs": [
        {
          "output_type": "execute_result",
          "data": {
            "application/vnd.google.colaboratory.intrinsic+json": {
              "type": "string"
            },
            "text/plain": [
              "'Beauty Care Products (Primary); Consumer Staples (Primary); Hair Care Products (Primary); Household and Personal Products (Primary); Personal Products (Primary); Personal Products (Primary); Skin Care Products (Primary); Vitamins and Nutritional Supplements (Primary); Healthcare; Pharmaceutical Products; Pharmaceuticals; Pharmaceuticals; Pharmaceuticals, Biotechnology and Life Sciences'"
            ]
          },
          "metadata": {
            "tags": []
          },
          "execution_count": 8
        }
      ]
    },
    {
      "cell_type": "code",
      "metadata": {
        "colab": {
          "base_uri": "https://localhost:8080/",
          "height": 88
        },
        "id": "DgpDSBW6teVP",
        "outputId": "f874f1fd-6bf9-4b80-db7d-f65c7a11dc0b"
      },
      "source": [
        "data_filtered['Business Description'][0]"
      ],
      "execution_count": 9,
      "outputs": [
        {
          "output_type": "execute_result",
          "data": {
            "application/vnd.google.colaboratory.intrinsic+json": {
              "type": "string"
            },
            "text/plain": [
              "'024 Pharma, Inc. provides healthcare products worldwide. Its products include vitamin and mineral supplements; stress release, joint, heart health, and weight-loss products; and skin care, hair, and anti-aging products. The company was formerly known as B Green Innovations, Inc. and changed its name to 024 Pharma, Inc. in October 2016. 024 Pharma, Inc. was incorporated in 2004 and is based in West Palm Beach, Florida.'"
            ]
          },
          "metadata": {
            "tags": []
          },
          "execution_count": 9
        }
      ]
    },
    {
      "cell_type": "code",
      "metadata": {
        "colab": {
          "base_uri": "https://localhost:8080/",
          "height": 347
        },
        "id": "GVazbjv6bVuQ",
        "outputId": "285e31de-0b23-4d23-deab-4d4a9f85b373"
      },
      "source": [
        "data_filtered['Industry Classifications'] = data_filtered['Industry Classifications'].apply(lambda x:x.split(';')[0])\n",
        "data_filtered.head(10)"
      ],
      "execution_count": 10,
      "outputs": [
        {
          "output_type": "execute_result",
          "data": {
            "text/html": [
              "<div>\n",
              "<style scoped>\n",
              "    .dataframe tbody tr th:only-of-type {\n",
              "        vertical-align: middle;\n",
              "    }\n",
              "\n",
              "    .dataframe tbody tr th {\n",
              "        vertical-align: top;\n",
              "    }\n",
              "\n",
              "    .dataframe thead th {\n",
              "        text-align: right;\n",
              "    }\n",
              "</style>\n",
              "<table border=\"1\" class=\"dataframe\">\n",
              "  <thead>\n",
              "    <tr style=\"text-align: right;\">\n",
              "      <th></th>\n",
              "      <th>Business Description</th>\n",
              "      <th>Industry Classifications</th>\n",
              "    </tr>\n",
              "  </thead>\n",
              "  <tbody>\n",
              "    <tr>\n",
              "      <th>0</th>\n",
              "      <td>024 Pharma, Inc. provides healthcare products ...</td>\n",
              "      <td>Beauty Care Products (Primary)</td>\n",
              "    </tr>\n",
              "    <tr>\n",
              "      <th>1</th>\n",
              "      <td>1-800-Flowers.com, Inc., together with its sub...</td>\n",
              "      <td>Catalog Flowers, Gifts and Novelties (Primary)</td>\n",
              "    </tr>\n",
              "    <tr>\n",
              "      <th>2</th>\n",
              "      <td>12 Retech Corporation, through its subsidiarie...</td>\n",
              "      <td>Information Technology (Primary)</td>\n",
              "    </tr>\n",
              "    <tr>\n",
              "      <th>3</th>\n",
              "      <td>1347 Property Insurance Holdings, Inc., throug...</td>\n",
              "      <td>Casualty (Primary)</td>\n",
              "    </tr>\n",
              "    <tr>\n",
              "      <th>4</th>\n",
              "      <td>1847 Holdings LLC, through its subsidiaries, p...</td>\n",
              "      <td>Commercial and Professional Services (Primary)</td>\n",
              "    </tr>\n",
              "    <tr>\n",
              "      <th>5</th>\n",
              "      <td>1867 Western Financial Corporation, through it...</td>\n",
              "      <td>Banks (Primary)</td>\n",
              "    </tr>\n",
              "    <tr>\n",
              "      <th>6</th>\n",
              "      <td>1mage Software Inc operates in the technology ...</td>\n",
              "      <td>Application Software (Primary)</td>\n",
              "    </tr>\n",
              "    <tr>\n",
              "      <th>7</th>\n",
              "      <td>1PM Industries, Inc. provides consulting servi...</td>\n",
              "      <td>Commercial and Professional Services (Primary)</td>\n",
              "    </tr>\n",
              "    <tr>\n",
              "      <th>8</th>\n",
              "      <td>1st Capital Bank provides various banking prod...</td>\n",
              "      <td>Banks (Primary)</td>\n",
              "    </tr>\n",
              "    <tr>\n",
              "      <th>9</th>\n",
              "      <td>1st Colonial Bancorp, Inc. operates as the ban...</td>\n",
              "      <td>Banks (Primary)</td>\n",
              "    </tr>\n",
              "  </tbody>\n",
              "</table>\n",
              "</div>"
            ],
            "text/plain": [
              "                                Business Description  \\\n",
              "0  024 Pharma, Inc. provides healthcare products ...   \n",
              "1  1-800-Flowers.com, Inc., together with its sub...   \n",
              "2  12 Retech Corporation, through its subsidiarie...   \n",
              "3  1347 Property Insurance Holdings, Inc., throug...   \n",
              "4  1847 Holdings LLC, through its subsidiaries, p...   \n",
              "5  1867 Western Financial Corporation, through it...   \n",
              "6  1mage Software Inc operates in the technology ...   \n",
              "7  1PM Industries, Inc. provides consulting servi...   \n",
              "8  1st Capital Bank provides various banking prod...   \n",
              "9  1st Colonial Bancorp, Inc. operates as the ban...   \n",
              "\n",
              "                         Industry Classifications  \n",
              "0                  Beauty Care Products (Primary)  \n",
              "1  Catalog Flowers, Gifts and Novelties (Primary)  \n",
              "2                Information Technology (Primary)  \n",
              "3                              Casualty (Primary)  \n",
              "4  Commercial and Professional Services (Primary)  \n",
              "5                                 Banks (Primary)  \n",
              "6                  Application Software (Primary)  \n",
              "7  Commercial and Professional Services (Primary)  \n",
              "8                                 Banks (Primary)  \n",
              "9                                 Banks (Primary)  "
            ]
          },
          "metadata": {
            "tags": []
          },
          "execution_count": 10
        }
      ]
    },
    {
      "cell_type": "code",
      "metadata": {
        "id": "mIzBchpjkuUI",
        "colab": {
          "base_uri": "https://localhost:8080/"
        },
        "outputId": "1f9adf01-508f-4518-e76f-a866f596abec"
      },
      "source": [
        "import re\n",
        "import nltk\n",
        "nltk.download('stopwords')\n",
        "from nltk.corpus import stopwords\n",
        "\n",
        "REPLACE_BY_SPACE_RE = re.compile('[/(){}\\[\\]\\|@,;]-')\n",
        "BAD_SYMBOLS_RE = re.compile('[^0-9a-z #+_]')\n",
        "STOPWORDS = set(stopwords.words('english'))\n",
        "\n",
        "def clean_text(text):\n",
        "    \"\"\"\n",
        "        text: a string\n",
        "        \n",
        "        return: modified initial string\n",
        "    \"\"\"\n",
        "    text = text.lower() # lowercase text\n",
        "    text = REPLACE_BY_SPACE_RE.sub(' ', text) # replace REPLACE_BY_SPACE_RE symbols by space in text. substitute the matched string in REPLACE_BY_SPACE_RE with space.\n",
        "    text = BAD_SYMBOLS_RE.sub('', text) # remove symbols which are in BAD_SYMBOLS_RE from text. substitute the matched string in BAD_SYMBOLS_RE with nothing. \n",
        "    text = ' '.join(word for word in text.split() if word not in STOPWORDS) # remove stopwors from text\n",
        "    return text\n",
        "data_filtered['Business Description'] = data_filtered['Business Description'].apply(clean_text)\n",
        "data_filtered['Business Description'] = data_filtered['Business Description'].str.replace('\\d+', '')"
      ],
      "execution_count": 11,
      "outputs": [
        {
          "output_type": "stream",
          "text": [
            "[nltk_data] Downloading package stopwords to /root/nltk_data...\n",
            "[nltk_data]   Unzipping corpora/stopwords.zip.\n"
          ],
          "name": "stdout"
        }
      ]
    },
    {
      "cell_type": "code",
      "metadata": {
        "colab": {
          "base_uri": "https://localhost:8080/",
          "height": 71
        },
        "id": "YIYJgnQAttV7",
        "outputId": "c3d01bb2-00f8-4c7e-fa88-b92549e40eb0"
      },
      "source": [
        "data_filtered['Business Description'][0]"
      ],
      "execution_count": 12,
      "outputs": [
        {
          "output_type": "execute_result",
          "data": {
            "application/vnd.google.colaboratory.intrinsic+json": {
              "type": "string"
            },
            "text/plain": [
              "' pharma inc provides healthcare products worldwide products include vitamin mineral supplements stress release joint heart health weightloss products skin care hair antiaging products company formerly known b green innovations inc changed name  pharma inc october   pharma inc incorporated  based west palm beach florida'"
            ]
          },
          "metadata": {
            "tags": []
          },
          "execution_count": 12
        }
      ]
    },
    {
      "cell_type": "markdown",
      "metadata": {
        "id": "1pWZNT-GxFEr"
      },
      "source": [
        "### Filtering out the empty rows and dropping them\n"
      ]
    },
    {
      "cell_type": "code",
      "metadata": {
        "colab": {
          "base_uri": "https://localhost:8080/"
        },
        "id": "M2OtQSjfvDqL",
        "outputId": "a71a94bf-36fd-401c-b75b-6fc704e8b602"
      },
      "source": [
        "blanks = []  # start with an empty list\n",
        "\n",
        "for i,desc,label in data_filtered.itertuples():  # iterate over the DataFrame\n",
        "    if type(desc)==str:            # avoid NaN values\n",
        "        if desc.isspace() or desc == \"\":         # test 'Business Description' for whitespace or empty string\n",
        "            blanks.append(i)     # add matching index numbers to the list\n",
        "        \n",
        "print(len(blanks), 'blanks: ', blanks)"
      ],
      "execution_count": 15,
      "outputs": [
        {
          "output_type": "stream",
          "text": [
            "32 blanks:  [262, 508, 666, 728, 753, 775, 866, 885, 892, 1017, 1034, 1158, 1208, 1215, 1232, 1368, 1414, 1481, 1484, 1505, 1551, 1564, 1566, 1593, 1651, 1664, 1675, 1747, 1762, 1774, 1803, 1819]\n"
          ],
          "name": "stdout"
        }
      ]
    },
    {
      "cell_type": "code",
      "metadata": {
        "colab": {
          "base_uri": "https://localhost:8080/"
        },
        "id": "We_THecXrxAY",
        "outputId": "09f514f5-3245-4b75-a79d-93bc55b3f9d4"
      },
      "source": [
        "data_filtered.dropna(axis=0,inplace=True)\n",
        "data_filtered.drop(blanks, inplace=True)\n",
        "data_filtered.shape"
      ],
      "execution_count": 16,
      "outputs": [
        {
          "output_type": "execute_result",
          "data": {
            "text/plain": [
              "(1970, 2)"
            ]
          },
          "metadata": {
            "tags": []
          },
          "execution_count": 16
        }
      ]
    },
    {
      "cell_type": "markdown",
      "metadata": {
        "id": "mO4liEYPxgiH"
      },
      "source": [
        "## Splitting our data into training and testing data."
      ]
    },
    {
      "cell_type": "code",
      "metadata": {
        "colab": {
          "base_uri": "https://localhost:8080/"
        },
        "id": "k9zvD2fKfmh9",
        "outputId": "cffe0bd6-b04e-40f0-80ad-50e3bf5db8f1"
      },
      "source": [
        "X = data_filtered['Business Description']\n",
        "y = data_filtered['Industry Classifications']\n",
        "print(X.shape,y.shape)"
      ],
      "execution_count": 17,
      "outputs": [
        {
          "output_type": "stream",
          "text": [
            "(1970,) (1970,)\n"
          ],
          "name": "stdout"
        }
      ]
    },
    {
      "cell_type": "code",
      "metadata": {
        "colab": {
          "base_uri": "https://localhost:8080/"
        },
        "id": "sh2c70NrgeVT",
        "outputId": "2d5e6128-5c78-4474-ee52-a74d8f7ca7ec"
      },
      "source": [
        "# y.value_counts()\n",
        "# for i in y.unique():\n",
        "#   print(i)\n",
        "len(y.unique())"
      ],
      "execution_count": 19,
      "outputs": [
        {
          "output_type": "execute_result",
          "data": {
            "text/plain": [
              "201"
            ]
          },
          "metadata": {
            "tags": []
          },
          "execution_count": 19
        }
      ]
    },
    {
      "cell_type": "code",
      "metadata": {
        "id": "lXsBTzCOgI4Q"
      },
      "source": [
        "from sklearn.model_selection import train_test_split\n",
        "X_train,X_test,y_train,y_test = train_test_split(X,y,test_size=0.30,random_state=42)"
      ],
      "execution_count": 21,
      "outputs": []
    },
    {
      "cell_type": "code",
      "metadata": {
        "colab": {
          "base_uri": "https://localhost:8080/"
        },
        "id": "t_yq46-fxc4U",
        "outputId": "ff71d56d-a53b-439c-8129-4c0e14434839"
      },
      "source": [
        "X_train.shape,X_test.shape,y_train.shape,y_test.shape"
      ],
      "execution_count": 22,
      "outputs": [
        {
          "output_type": "execute_result",
          "data": {
            "text/plain": [
              "((1379,), (591,), (1379,), (591,))"
            ]
          },
          "metadata": {
            "tags": []
          },
          "execution_count": 22
        }
      ]
    },
    {
      "cell_type": "markdown",
      "metadata": {
        "id": "NwQNwGFdxlr5"
      },
      "source": [
        "## Creating a custom tokenizer using Spacy library for tokenizing our data through TF-IDF"
      ]
    },
    {
      "cell_type": "code",
      "metadata": {
        "id": "Yt4tR35qhzuU"
      },
      "source": [
        "import string\n",
        "from spacy.lang.en.stop_words import STOP_WORDS\n",
        "from spacy.lang.en import English\n",
        "\n",
        "# Create our list of punctuation marks\n",
        "punctuations = string.punctuation\n",
        "\n",
        "# Create our list of stopwords\n",
        "nlp = spacy.load('en')\n",
        "stop_words = STOP_WORDS\n",
        "\n",
        "# Load English tokenizer, tagger, parser, NER and word vectors\n",
        "parser = English()\n",
        "\n",
        "# Creating our tokenizer function\n",
        "def spacy_tokenizer(sentence):\n",
        "    # Creating our token object, which is used to create documents with linguistic annotations.\n",
        "    mytokens = parser(sentence)\n",
        "\n",
        "    # Lemmatizing each token and converting each token into lowercase\n",
        "    mytokens = [ word.lemma_.lower().strip() if word.lemma_ != \"-PRON-\" else word.lower_ for word in mytokens ]\n",
        "\n",
        "    # Removing stop words\n",
        "    mytokens = [ word for word in mytokens if word not in stop_words and word not in punctuations ]\n",
        "\n",
        "    # return preprocessed list of tokens\n",
        "    return mytokens"
      ],
      "execution_count": 13,
      "outputs": []
    },
    {
      "cell_type": "code",
      "metadata": {
        "id": "3c4X6d7nbnlr"
      },
      "source": [
        "tfidf = TfidfVectorizer(tokenizer=spacy_tokenizer,lowercase=True,analyzer='word',stop_words='english',max_df=0.95,min_df=1)"
      ],
      "execution_count": 23,
      "outputs": []
    },
    {
      "cell_type": "markdown",
      "metadata": {
        "id": "AqzHN_ZtyxaC"
      },
      "source": [
        "## Fitting our training data on few classifiers and choose the best one"
      ]
    },
    {
      "cell_type": "code",
      "metadata": {
        "colab": {
          "base_uri": "https://localhost:8080/"
        },
        "id": "2qBMx2VclGwo",
        "outputId": "8e8e2781-9bb2-4753-d04f-909fa2c17e29"
      },
      "source": [
        "# ML Classifier\n",
        "from sklearn.ensemble import RandomForestClassifier\n",
        "# from sklearn.tree import DecisionTreeClassifier\n",
        "# from sklearn.linear_model import LogisticRegression\n",
        "# from sklearn.naive_bayes import MultinomialNB\n",
        "classifier = RandomForestClassifier(max_depth=None,n_estimators=500,criterion='gini',random_state=42)\n",
        "# classifier = LogisticRegression(penalty='l2',multi_class='auto',random_state =42)\n",
        "# classifier = MultinomialNB()\n",
        "# classifier = DecisionTreeClassifier(criterion='gini',random_state=42)\n",
        "# Create pipeline using TF-IDF\n",
        "pipe = Pipeline([('vectorizer', tfidf),\n",
        "                 ('classifier', classifier)])\n",
        "\n",
        "# model generation\n",
        "pipe.fit(X_train,y_train)"
      ],
      "execution_count": 24,
      "outputs": [
        {
          "output_type": "execute_result",
          "data": {
            "text/plain": [
              "Pipeline(memory=None,\n",
              "         steps=[('cleaner', <__main__.predictors object at 0x7f1b2a09dc50>),\n",
              "                ('vectorizer',\n",
              "                 TfidfVectorizer(analyzer='word', binary=False,\n",
              "                                 decode_error='strict',\n",
              "                                 dtype=<class 'numpy.float64'>,\n",
              "                                 encoding='utf-8', input='content',\n",
              "                                 lowercase=True, max_df=0.95, max_features=None,\n",
              "                                 min_df=1, ngram_range=(1, 1), norm='l2',\n",
              "                                 preprocessor=None, smooth_idf=True,\n",
              "                                 stop_wo...\n",
              "                 RandomForestClassifier(bootstrap=True, ccp_alpha=0.0,\n",
              "                                        class_weight=None, criterion='gini',\n",
              "                                        max_depth=None, max_features='auto',\n",
              "                                        max_leaf_nodes=None, max_samples=None,\n",
              "                                        min_impurity_decrease=0.0,\n",
              "                                        min_impurity_split=None,\n",
              "                                        min_samples_leaf=1, min_samples_split=2,\n",
              "                                        min_weight_fraction_leaf=0.0,\n",
              "                                        n_estimators=500, n_jobs=None,\n",
              "                                        oob_score=False, random_state=42,\n",
              "                                        verbose=0, warm_start=False))],\n",
              "         verbose=False)"
            ]
          },
          "metadata": {
            "tags": []
          },
          "execution_count": 24
        }
      ]
    },
    {
      "cell_type": "code",
      "metadata": {
        "colab": {
          "base_uri": "https://localhost:8080/"
        },
        "id": "n-kg_ItLyKa_",
        "outputId": "89161b31-e1d3-452e-a873-99d3afb52258"
      },
      "source": [
        "pipe.score(X_train,y_train)"
      ],
      "execution_count": 25,
      "outputs": [
        {
          "output_type": "execute_result",
          "data": {
            "text/plain": [
              "1.0"
            ]
          },
          "metadata": {
            "tags": []
          },
          "execution_count": 25
        }
      ]
    },
    {
      "cell_type": "markdown",
      "metadata": {
        "id": "UztZBCv7y84A"
      },
      "source": [
        "## Predicting on our test data and printing the Classification report along with score. "
      ]
    },
    {
      "cell_type": "code",
      "metadata": {
        "colab": {
          "base_uri": "https://localhost:8080/"
        },
        "id": "KcoaUSKTn7Lb",
        "outputId": "c15446d0-82ce-4c03-dbde-8f294a7a00b2"
      },
      "source": [
        "from sklearn import metrics\n",
        "# Predicting with a test dataset\n",
        "predicted = pipe.predict(X_test)\n",
        "\n",
        "# Model Accuracy\n",
        "# print(\"Random Forest Accuracy:\",metrics.accuracy_score(y_test, predicted))\n",
        "# print(\"Random Forest Precision:\",metrics.precision_score(y_test, predicted))\n",
        "# print(\"Random Forest Recall:\",metrics.recall_score(y_test, predicted))\n",
        "# print(\"Confusion Matrix \\n:\",metrics.confusion_matrix(y_test,predicted))\n",
        "print(pipe.score(X_test,y_test))\n",
        "print(\"-\"*50)\n",
        "print(\"Classification Report \\n:\",metrics.classification_report(y_test,predicted))\n"
      ],
      "execution_count": 26,
      "outputs": [
        {
          "output_type": "stream",
          "text": [
            "0.43824027072758037\n",
            "--------------------------------------------------\n",
            "Classification Report \n",
            ":                                                             precision    recall  f1-score   support\n",
            "\n",
            "                                     Accessories (Primary)       0.00      0.00      0.00         1\n",
            "                                Accessory Stores (Primary)       0.00      0.00      0.00         1\n",
            "                              Accident Insurance (Primary)       0.00      0.00      0.00         1\n",
            "                             Accounting Software (Primary)       0.00      0.00      0.00         1\n",
            "                          Adhesives And Sealants (Primary)       0.00      0.00      0.00         2\n",
            "                                     Advertising (Primary)       1.00      0.20      0.33         5\n",
            "                           Aerospace and Defense (Primary)       1.00      0.14      0.25         7\n",
            "                           Agricultural Products (Primary)       0.00      0.00      0.00         1\n",
            "                 Agricultural and Farm Machinery (Primary)       0.00      0.00      0.00         2\n",
            "                       Air Freight and Logistics (Primary)       0.00      0.00      0.00         2\n",
            "                         Air and Gas Compressors (Primary)       0.00      0.00      0.00         1\n",
            "                            Alternative Carriers (Primary)       0.00      0.00      0.00         3\n",
            "                                        Aluminum (Primary)       0.00      0.00      0.00         2\n",
            "               Amusement And Recreation Services (Primary)       0.00      0.00      0.00         1\n",
            "                         Analog and Mixed Signal (Primary)       0.00      0.00      0.00         3\n",
            "                Animal Care Product Distribution (Primary)       0.00      0.00      0.00         1\n",
            "                            Animal Care Products (Primary)       0.00      0.00      0.00         1\n",
            "                                     Animal Feed (Primary)       0.00      0.00      0.00         2\n",
            "                                        Antennas (Primary)       0.00      0.00      0.00         1\n",
            "                            Anti-infective Drugs (Primary)       0.00      0.00      0.00         5\n",
            "                                         Apparel (Primary)       0.00      0.00      0.00         1\n",
            "                                  Apparel Retail (Primary)       0.00      0.00      0.00         3\n",
            "                Apparel and Textile Distribution (Primary)       0.00      0.00      0.00         1\n",
            "           Apparel, Accessories and Luxury Goods (Primary)       0.00      0.00      0.00         1\n",
            "                    Application Hosting Services (Primary)       0.00      0.00      0.00         5\n",
            "                            Application Software (Primary)       0.50      0.29      0.37        17\n",
            "              Asset Management and Custody Banks (Primary)       0.22      0.29      0.25         7\n",
            "         Assisted Living Facilities and Services (Primary)       0.00      0.00      0.00         1\n",
            "                              Audio Conferencing (Primary)       0.00      0.00      0.00         1\n",
            "                                 Auto Components (Primary)       0.00      0.00      0.00         7\n",
            "                     Automatic Testing Equipment (Primary)       0.00      0.00      0.00         2\n",
            "                Automation Products and Services (Primary)       0.00      0.00      0.00         2\n",
            "                        Automobile Manufacturers (Primary)       0.00      0.00      0.00         1\n",
            "                                     Automobiles (Primary)       0.00      0.00      0.00         2\n",
            "                               Automotive Retail (Primary)       1.00      0.40      0.57         5\n",
            "                              Back-End Equipment (Primary)       0.00      0.00      0.00         1\n",
            "                    Backup and Recovery Software (Primary)       0.00      0.00      0.00         1\n",
            "                                           Banks (Primary)       0.75      1.00      0.86        61\n",
            "                            Beauty Care Products (Primary)       0.00      0.00      0.00         3\n",
            "                    Beer, Ale and Malt Beverages (Primary)       0.00      0.00      0.00         1\n",
            "                       Beverage and Tobacco Bars (Primary)       0.00      0.00      0.00         2\n",
            "                                       Beverages (Primary)       0.00      0.00      0.00         4\n",
            "                             Biological Products (Primary)       0.00      0.00      0.00         3\n",
            "                             Biometrics Software (Primary)       0.00      0.00      0.00         2\n",
            "                                   Biotechnology (Primary)       0.58      0.88      0.70        41\n",
            "                                        Biscuits (Primary)       0.00      0.00      0.00         1\n",
            "              Bituminous Coal And Lignite Mining (Primary)       0.00      0.00      0.00         3\n",
            "                       Bread and Bakery Products (Primary)       0.00      0.00      0.00         1\n",
            "                                              Broadcasting       0.00      0.00      0.00         1\n",
            "                                    Broadcasting (Primary)       0.00      0.00      0.00         2\n",
            "                               Building Products (Primary)       0.00      0.00      0.00         5\n",
            "                  Cable And Other Pay Television (Primary)       0.00      0.00      0.00         2\n",
            "                         Cable Network Equipment (Primary)       0.00      0.00      0.00         1\n",
            "           Camping, Hiking and Outdoor Equipment (Primary)       0.00      0.00      0.00         1\n",
            "                                   Capital Goods (Primary)       0.23      0.50      0.31        26\n",
            "                                 Capital Markets (Primary)       0.00      0.00      0.00         2\n",
            "                                       Car Loans (Primary)       0.00      0.00      0.00         2\n",
            "                        Cardiovascular Equipment (Primary)       0.00      0.00      0.00         2\n",
            "                                         Casinos (Primary)       0.00      0.00      0.00         1\n",
            "                                        Casualty (Primary)       0.00      0.00      0.00         1\n",
            "             Catalog Consumer Electronics Retail (Primary)       0.00      0.00      0.00         1\n",
            "                    Central Nervous System Drugs (Primary)       0.00      0.00      0.00         2\n",
            "          Chemical And Fertilizer Mineral Mining (Primary)       0.00      0.00      0.00         1\n",
            "                                       Chemicals (Primary)       0.00      0.00      0.00         5\n",
            "                         Child Day Care Services (Primary)       0.00      0.00      0.00         1\n",
            "                            Children's Hospitals (Primary)       0.00      0.00      0.00         1\n",
            "                                 Claim Adjusters (Primary)       0.00      0.00      0.00         1\n",
            "                       Coal and Consumable Fuels (Primary)       0.00      0.00      0.00         2\n",
            "                                          Coffee (Primary)       0.00      0.00      0.00         1\n",
            "                                  Coffee And Tea (Primary)       0.00      0.00      0.00         2\n",
            "                                    Collectibles (Primary)       0.00      0.00      0.00         1\n",
            "Colleges, Universities, and Professional Schools (Primary)       0.00      0.00      0.00         2\n",
            "             Commercial Electronics Distribution (Primary)       0.00      0.00      0.00         2\n",
            "  Commercial and Household Goods Moving Services (Primary)       0.00      0.00      0.00         1\n",
            "            Commercial and Professional Services (Primary)       0.26      0.21      0.23        24\n",
            "                        Communications Equipment (Primary)       0.40      0.57      0.47         7\n",
            "                                  Computer Games (Primary)       0.00      0.00      0.00         1\n",
            "                 Computer and Electronics Retail (Primary)       0.00      0.00      0.00         1\n",
            "                          Construction Materials (Primary)       0.00      0.00      0.00         1\n",
            "                          Consumer Discretionary (Primary)       0.24      0.59      0.34        34\n",
            "                                Consumer Finance (Primary)       0.00      0.00      0.00         2\n",
            "                                Consumer Staples (Primary)       0.50      0.14      0.22        14\n",
            "                        Containers and Packaging (Primary)       0.00      0.00      0.00         2\n",
            "           Cosmetic Dental Implants and Supplies (Primary)       0.00      0.00      0.00         1\n",
            "                       Crude Petroleum Pipelines (Primary)       0.00      0.00      0.00         2\n",
            "                 Crude Petroleum and Natural Gas (Primary)       0.00      0.00      0.00         1\n",
            "         Data Processing and Outsourced Services (Primary)       0.00      0.00      0.00         7\n",
            "                                    Data Storage (Primary)       0.00      0.00      0.00         1\n",
            "                           Dental Care Equipment (Primary)       0.00      0.00      0.00         1\n",
            "                          Development Consulting (Primary)       0.00      0.00      0.00         2\n",
            "                                         Digital (Primary)       0.00      0.00      0.00         1\n",
            "                               Disaster Recovery (Primary)       0.00      0.00      0.00         1\n",
            "                  Diversified Financial Services (Primary)       0.00      0.00      0.00         2\n",
            "                          Diversified Financials (Primary)       1.00      1.00      1.00         6\n",
            "                          Diversified Metal Ores (Primary)       0.00      0.00      0.00         2\n",
            "                   Diversified Metals and Mining (Primary)       0.00      0.00      0.00         3\n",
            "              Diversified Real Estate Activities (Primary)       0.00      0.00      0.00         2\n",
            "          Diversified Telecommunication Services (Primary)       0.00      0.00      0.00         2\n",
            "                  Electric Power By Solar Energy (Primary)       0.00      0.00      0.00         1\n",
            "                     Electric Power Distribution (Primary)       0.00      0.00      0.00         1\n",
            "                           Electronic Components (Primary)       0.00      0.00      0.00         2\n",
            "            Electronic Equipment and Instruments (Primary)       0.00      0.00      0.00         9\n",
            "Electronic Equipment, Instruments and Components (Primary)       0.00      0.00      0.00         1\n",
            "                    Electrotherapeutic Apparatus (Primary)       0.00      0.00      0.00         1\n",
            "                                          Energy (Primary)       0.48      0.98      0.64        42\n",
            "                          Entertainment Software (Primary)       0.00      0.00      0.00         1\n",
            "                                      Financials (Primary)       0.50      1.00      0.67         4\n",
            "                                 Forest Products (Primary)       0.00      0.00      0.00         1\n",
            "                                   Gas Utilities (Primary)       0.00      0.00      0.00         1\n",
            "                         Generic Pharmaceuticals (Primary)       0.00      0.00      0.00         1\n",
            "                                            Gold (Primary)       0.33      0.67      0.44         3\n",
            "                          Health Care Technology (Primary)       0.00      0.00      0.00         3\n",
            "                                      Healthcare (Primary)       0.51      0.69      0.59        49\n",
            "                                     Industrials (Primary)       0.00      0.00      0.00         2\n",
            "                          Information Technology (Primary)       0.27      0.57      0.37        35\n",
            "                         Iron And Steel Forgings (Primary)       0.00      0.00      0.00         1\n",
            "                                       Iron Ores (Primary)       0.00      0.00      0.00         2\n",
            "                Land Sub Dividers And Developers (Primary)       0.00      0.00      0.00         3\n",
            "                                                 Materials       0.00      0.00      0.00         1\n",
            "                                       Materials (Primary)       0.00      0.00      0.00         4\n",
            "                                 Multi-Utilities (Primary)       0.00      0.00      0.00         2\n",
            "   Nonresidential Building Operators and Lessors (Primary)       0.00      0.00      0.00         4\n",
            "                                     Real Estate (Primary)       0.00      0.00      0.00         3\n",
            "                                       Utilities (Primary)       0.00      0.00      0.00         2\n",
            "\n",
            "                                                  accuracy                           0.44       591\n",
            "                                                 macro avg       0.08      0.08      0.07       591\n",
            "                                              weighted avg       0.32      0.44      0.35       591\n",
            "\n"
          ],
          "name": "stdout"
        },
        {
          "output_type": "stream",
          "text": [
            "/usr/local/lib/python3.6/dist-packages/sklearn/metrics/_classification.py:1272: UndefinedMetricWarning: Precision and F-score are ill-defined and being set to 0.0 in labels with no predicted samples. Use `zero_division` parameter to control this behavior.\n",
            "  _warn_prf(average, modifier, msg_start, len(result))\n"
          ],
          "name": "stderr"
        }
      ]
    },
    {
      "cell_type": "markdown",
      "metadata": {
        "id": "M882RpugzJfC"
      },
      "source": [
        "## Importing the Test data file and performing preprocessing steps and using our classifier to predict for the classes."
      ]
    },
    {
      "cell_type": "code",
      "metadata": {
        "id": "-YfuiQSRExB7",
        "colab": {
          "base_uri": "https://localhost:8080/",
          "height": 197
        },
        "outputId": "fced1199-2607-48ed-947e-7ba944bf90d1"
      },
      "source": [
        "testing_data = pd.read_excel('/content/Company_ Business Description.xlsx')\n",
        "testing_filtered = testing_data[['Business Description']].copy()\n",
        "testing_filtered.head()"
      ],
      "execution_count": 27,
      "outputs": [
        {
          "output_type": "execute_result",
          "data": {
            "text/html": [
              "<div>\n",
              "<style scoped>\n",
              "    .dataframe tbody tr th:only-of-type {\n",
              "        vertical-align: middle;\n",
              "    }\n",
              "\n",
              "    .dataframe tbody tr th {\n",
              "        vertical-align: top;\n",
              "    }\n",
              "\n",
              "    .dataframe thead th {\n",
              "        text-align: right;\n",
              "    }\n",
              "</style>\n",
              "<table border=\"1\" class=\"dataframe\">\n",
              "  <thead>\n",
              "    <tr style=\"text-align: right;\">\n",
              "      <th></th>\n",
              "      <th>Business Description</th>\n",
              "    </tr>\n",
              "  </thead>\n",
              "  <tbody>\n",
              "    <tr>\n",
              "      <th>0</th>\n",
              "      <td>024 Pharma, Inc. provides healthcare products ...</td>\n",
              "    </tr>\n",
              "    <tr>\n",
              "      <th>1</th>\n",
              "      <td>1-800-Flowers.com, Inc., together with its sub...</td>\n",
              "    </tr>\n",
              "    <tr>\n",
              "      <th>2</th>\n",
              "      <td>12 Retech Corporation, through its subsidiarie...</td>\n",
              "    </tr>\n",
              "    <tr>\n",
              "      <th>3</th>\n",
              "      <td>1347 Property Insurance Holdings, Inc., throug...</td>\n",
              "    </tr>\n",
              "    <tr>\n",
              "      <th>4</th>\n",
              "      <td>1847 Holdings LLC, through its subsidiaries, p...</td>\n",
              "    </tr>\n",
              "  </tbody>\n",
              "</table>\n",
              "</div>"
            ],
            "text/plain": [
              "                                Business Description\n",
              "0  024 Pharma, Inc. provides healthcare products ...\n",
              "1  1-800-Flowers.com, Inc., together with its sub...\n",
              "2  12 Retech Corporation, through its subsidiarie...\n",
              "3  1347 Property Insurance Holdings, Inc., throug...\n",
              "4  1847 Holdings LLC, through its subsidiaries, p..."
            ]
          },
          "metadata": {
            "tags": []
          },
          "execution_count": 27
        }
      ]
    },
    {
      "cell_type": "code",
      "metadata": {
        "id": "iTPf7p0SHsfg",
        "colab": {
          "base_uri": "https://localhost:8080/",
          "height": 197
        },
        "outputId": "d57a6705-4714-4a99-9b03-7a3f6ba9d044"
      },
      "source": [
        "testing_filtered['Business Description'] = testing_filtered['Business Description'].apply(clean_text)\n",
        "testing_filtered['Business Description'] = testing_filtered['Business Description'].str.replace('\\d+', '')\n",
        "testing_filtered.head()"
      ],
      "execution_count": 28,
      "outputs": [
        {
          "output_type": "execute_result",
          "data": {
            "text/html": [
              "<div>\n",
              "<style scoped>\n",
              "    .dataframe tbody tr th:only-of-type {\n",
              "        vertical-align: middle;\n",
              "    }\n",
              "\n",
              "    .dataframe tbody tr th {\n",
              "        vertical-align: top;\n",
              "    }\n",
              "\n",
              "    .dataframe thead th {\n",
              "        text-align: right;\n",
              "    }\n",
              "</style>\n",
              "<table border=\"1\" class=\"dataframe\">\n",
              "  <thead>\n",
              "    <tr style=\"text-align: right;\">\n",
              "      <th></th>\n",
              "      <th>Business Description</th>\n",
              "    </tr>\n",
              "  </thead>\n",
              "  <tbody>\n",
              "    <tr>\n",
              "      <th>0</th>\n",
              "      <td>pharma inc provides healthcare products world...</td>\n",
              "    </tr>\n",
              "    <tr>\n",
              "      <th>1</th>\n",
              "      <td>flowerscom inc together subsidiaries provides ...</td>\n",
              "    </tr>\n",
              "    <tr>\n",
              "      <th>2</th>\n",
              "      <td>retech corporation subsidiaries operates inte...</td>\n",
              "    </tr>\n",
              "    <tr>\n",
              "      <th>3</th>\n",
              "      <td>property insurance holdings inc subsidiaries ...</td>\n",
              "    </tr>\n",
              "    <tr>\n",
              "      <th>4</th>\n",
              "      <td>holdings llc subsidiaries provides range prod...</td>\n",
              "    </tr>\n",
              "  </tbody>\n",
              "</table>\n",
              "</div>"
            ],
            "text/plain": [
              "                                Business Description\n",
              "0   pharma inc provides healthcare products world...\n",
              "1  flowerscom inc together subsidiaries provides ...\n",
              "2   retech corporation subsidiaries operates inte...\n",
              "3   property insurance holdings inc subsidiaries ...\n",
              "4   holdings llc subsidiaries provides range prod..."
            ]
          },
          "metadata": {
            "tags": []
          },
          "execution_count": 28
        }
      ]
    },
    {
      "cell_type": "code",
      "metadata": {
        "id": "F-rKHMD9H4Fc"
      },
      "source": [
        "# Predicting with a test dataset\n",
        "test_predicted = pipe.predict(testing_filtered['Business Description'])"
      ],
      "execution_count": 29,
      "outputs": []
    },
    {
      "cell_type": "code",
      "metadata": {
        "colab": {
          "base_uri": "https://localhost:8080/"
        },
        "id": "DCClEosDIKUM",
        "outputId": "55735e94-e75d-4158-d317-b0775a355dc9"
      },
      "source": [
        "testing_filtered['Business Description'].shape,test_predicted.shape"
      ],
      "execution_count": null,
      "outputs": [
        {
          "output_type": "execute_result",
          "data": {
            "text/plain": [
              "((8425,), (8425,))"
            ]
          },
          "metadata": {
            "tags": []
          },
          "execution_count": 68
        }
      ]
    },
    {
      "cell_type": "markdown",
      "metadata": {
        "id": "Wy6FTlBjzXlS"
      },
      "source": [
        "## Combining the predicted labels with our original dataset and saving the file."
      ]
    },
    {
      "cell_type": "code",
      "metadata": {
        "colab": {
          "base_uri": "https://localhost:8080/",
          "height": 397
        },
        "id": "eXgxM471Kwcm",
        "outputId": "191cfc2d-7bec-4897-85cf-111124b98c3f"
      },
      "source": [
        "testing_data['Predicted Industry ClasClassification'] = test_predicted\n",
        "testing_data.head()"
      ],
      "execution_count": 31,
      "outputs": [
        {
          "output_type": "execute_result",
          "data": {
            "text/html": [
              "<div>\n",
              "<style scoped>\n",
              "    .dataframe tbody tr th:only-of-type {\n",
              "        vertical-align: middle;\n",
              "    }\n",
              "\n",
              "    .dataframe tbody tr th {\n",
              "        vertical-align: top;\n",
              "    }\n",
              "\n",
              "    .dataframe thead th {\n",
              "        text-align: right;\n",
              "    }\n",
              "</style>\n",
              "<table border=\"1\" class=\"dataframe\">\n",
              "  <thead>\n",
              "    <tr style=\"text-align: right;\">\n",
              "      <th></th>\n",
              "      <th>Company Name</th>\n",
              "      <th>Exchange:Ticker</th>\n",
              "      <th>Company Type</th>\n",
              "      <th>Company Status</th>\n",
              "      <th>Geographic Locations</th>\n",
              "      <th>Business Description</th>\n",
              "      <th>Security Tickers</th>\n",
              "      <th>Predicted Industry ClasClassification</th>\n",
              "    </tr>\n",
              "  </thead>\n",
              "  <tbody>\n",
              "    <tr>\n",
              "      <th>0</th>\n",
              "      <td>024 Pharma, Inc. (OTCPK:EEIG)</td>\n",
              "      <td>OTCPK:EEIG</td>\n",
              "      <td>Public Company</td>\n",
              "      <td>Operating</td>\n",
              "      <td>United States of America (Primary)</td>\n",
              "      <td>024 Pharma, Inc. provides healthcare products ...</td>\n",
              "      <td>OTCPK:EEIG</td>\n",
              "      <td>Beauty Care Products (Primary)</td>\n",
              "    </tr>\n",
              "    <tr>\n",
              "      <th>1</th>\n",
              "      <td>1-800-FLOWERS.COM, Inc. (NasdaqGS:FLWS)</td>\n",
              "      <td>NasdaqGS:FLWS</td>\n",
              "      <td>Public Company</td>\n",
              "      <td>Operating</td>\n",
              "      <td>United States of America (Primary)</td>\n",
              "      <td>1-800-Flowers.com, Inc., together with its sub...</td>\n",
              "      <td>NasdaqGS:FLWS; DB:FWC</td>\n",
              "      <td>Catalog Flowers, Gifts and Novelties (Primary)</td>\n",
              "    </tr>\n",
              "    <tr>\n",
              "      <th>2</th>\n",
              "      <td>12 Retech Corporation (OTCPK:RETC)</td>\n",
              "      <td>OTCPK:RETC</td>\n",
              "      <td>Public Company</td>\n",
              "      <td>Operating</td>\n",
              "      <td>United States of America (Primary)</td>\n",
              "      <td>12 Retech Corporation, through its subsidiarie...</td>\n",
              "      <td>OTCPK:RETC</td>\n",
              "      <td>Banks (Primary)</td>\n",
              "    </tr>\n",
              "    <tr>\n",
              "      <th>3</th>\n",
              "      <td>1347 Property Insurance Holdings, Inc. (Nasdaq...</td>\n",
              "      <td>NasdaqGM:PIH</td>\n",
              "      <td>Public Company</td>\n",
              "      <td>Operating</td>\n",
              "      <td>United States of America (Primary)</td>\n",
              "      <td>1347 Property Insurance Holdings, Inc., throug...</td>\n",
              "      <td>NasdaqGM:PIH</td>\n",
              "      <td>Casualty (Primary)</td>\n",
              "    </tr>\n",
              "    <tr>\n",
              "      <th>4</th>\n",
              "      <td>1847 Holdings LLC (OTCPK:EFSH)</td>\n",
              "      <td>OTCPK:EFSH</td>\n",
              "      <td>Public Company</td>\n",
              "      <td>Operating</td>\n",
              "      <td>United States of America (Primary)</td>\n",
              "      <td>1847 Holdings LLC, through its subsidiaries, p...</td>\n",
              "      <td>OTCPK:EFSH</td>\n",
              "      <td>Commercial and Professional Services (Primary)</td>\n",
              "    </tr>\n",
              "  </tbody>\n",
              "</table>\n",
              "</div>"
            ],
            "text/plain": [
              "                                        Company Name Exchange:Ticker  \\\n",
              "0                      024 Pharma, Inc. (OTCPK:EEIG)      OTCPK:EEIG   \n",
              "1            1-800-FLOWERS.COM, Inc. (NasdaqGS:FLWS)   NasdaqGS:FLWS   \n",
              "2                 12 Retech Corporation (OTCPK:RETC)      OTCPK:RETC   \n",
              "3  1347 Property Insurance Holdings, Inc. (Nasdaq...    NasdaqGM:PIH   \n",
              "4                     1847 Holdings LLC (OTCPK:EFSH)      OTCPK:EFSH   \n",
              "\n",
              "     Company Type Company Status                Geographic Locations  \\\n",
              "0  Public Company      Operating  United States of America (Primary)   \n",
              "1  Public Company      Operating  United States of America (Primary)   \n",
              "2  Public Company      Operating  United States of America (Primary)   \n",
              "3  Public Company      Operating  United States of America (Primary)   \n",
              "4  Public Company      Operating  United States of America (Primary)   \n",
              "\n",
              "                                Business Description       Security Tickers  \\\n",
              "0  024 Pharma, Inc. provides healthcare products ...             OTCPK:EEIG   \n",
              "1  1-800-Flowers.com, Inc., together with its sub...  NasdaqGS:FLWS; DB:FWC   \n",
              "2  12 Retech Corporation, through its subsidiarie...             OTCPK:RETC   \n",
              "3  1347 Property Insurance Holdings, Inc., throug...           NasdaqGM:PIH   \n",
              "4  1847 Holdings LLC, through its subsidiaries, p...             OTCPK:EFSH   \n",
              "\n",
              "            Predicted Industry ClasClassification  \n",
              "0                  Beauty Care Products (Primary)  \n",
              "1  Catalog Flowers, Gifts and Novelties (Primary)  \n",
              "2                                 Banks (Primary)  \n",
              "3                              Casualty (Primary)  \n",
              "4  Commercial and Professional Services (Primary)  "
            ]
          },
          "metadata": {
            "tags": []
          },
          "execution_count": 31
        }
      ]
    },
    {
      "cell_type": "code",
      "metadata": {
        "id": "1hO0CrrsLODO"
      },
      "source": [
        "testing_data.to_csv('predicted_data_file.csv',index=False)"
      ],
      "execution_count": 32,
      "outputs": []
    },
    {
      "cell_type": "markdown",
      "metadata": {
        "id": "APFRBGYIzi6Z"
      },
      "source": [
        "# Well done!!! Good Job..."
      ]
    }
  ]
}